{
 "cells": [
  {
   "cell_type": "code",
   "execution_count": 3,
   "metadata": {
    "collapsed": true
   },
   "outputs": [],
   "source": [
    "def parseData(fname):\n",
    "    for l in open(fname):\n",
    "        yield eval(l)\n",
    "        \n",
    "import json\n",
    "from collections import defaultdict\n",
    "from sklearn import svm\n",
    "from nltk.stem.porter import *\n",
    "import numpy as np\n",
    "from sklearn.manifold import TSNE\n",
    "import matplotlib.pyplot as plt"
   ]
  },
  {
   "cell_type": "code",
   "execution_count": null,
   "metadata": {
    "collapsed": false
   },
   "outputs": [],
   "source": [
    "with open(\"R:\\UCSD\\Fall'15\\CSE 255\\Assignment 2\\cuisine\\cood_train.json\") as train_data_file:\n",
    "    train_data_json = json.load(train_data_file)"
   ]
  },
  {
   "cell_type": "code",
   "execution_count": null,
   "metadata": {
    "collapsed": true
   },
   "outputs": [],
   "source": [
    "data = train_data_json"
   ]
  },
  {
   "cell_type": "code",
   "execution_count": null,
   "metadata": {
    "collapsed": false,
    "scrolled": true
   },
   "outputs": [],
   "source": [
    "\n",
    "with open(\"R:\\UCSD\\Fall'15\\CSE 255\\Assignment 2\\cuisine\\cood_test.json\") as test_data_file:\n",
    "    test = json.load(test_data_file)\n",
    "print len(test)"
   ]
  },
  {
   "cell_type": "code",
   "execution_count": null,
   "metadata": {
    "collapsed": false
   },
   "outputs": [],
   "source": [
    "print test[0]"
   ]
  },
  {
   "cell_type": "code",
   "execution_count": null,
   "metadata": {
    "collapsed": false
   },
   "outputs": [],
   "source": [
    "cuisine = {}\n",
    "for d in data:\n",
    "    try:\n",
    "        cuisine[d['cuisine']] += 1\n",
    "    except:\n",
    "        cuisine[d['cuisine']] = 1\n",
    "print len(cuisine)"
   ]
  },
  {
   "cell_type": "code",
   "execution_count": null,
   "metadata": {
    "collapsed": false
   },
   "outputs": [],
   "source": [
    "print cuisine"
   ]
  },
  {
   "cell_type": "code",
   "execution_count": null,
   "metadata": {
    "collapsed": false,
    "scrolled": false
   },
   "outputs": [],
   "source": [
    "cuisines = cuisine.keys()\n",
    "print cuisines"
   ]
  },
  {
   "cell_type": "code",
   "execution_count": null,
   "metadata": {
    "collapsed": false,
    "scrolled": true
   },
   "outputs": [],
   "source": [
    "ings = defaultdict()\n",
    "\n",
    "for d in data:\n",
    "    for i in d['ingredients']:\n",
    "        for w in i.split():\n",
    "            if len(w) > 3:\n",
    "                try:\n",
    "                    ings[w.lower()] += 1\n",
    "                except:\n",
    "                    ings[w.lower()] = 1\n",
    "print len(ings)"
   ]
  },
  {
   "cell_type": "code",
   "execution_count": null,
   "metadata": {
    "collapsed": false,
    "scrolled": false
   },
   "outputs": [],
   "source": [
    "len(data)"
   ]
  },
  {
   "cell_type": "code",
   "execution_count": null,
   "metadata": {
    "collapsed": true
   },
   "outputs": [],
   "source": [
    "X_init=X[:10000]\n",
    "y_init=y_train[:10000]"
   ]
  },
  {
   "cell_type": "code",
   "execution_count": null,
   "metadata": {
    "collapsed": false,
    "scrolled": true
   },
   "outputs": [],
   "source": [
    "model = TSNE(n_components=2, random_state=0)\n",
    "np.set_printoptions(suppress=True)\n",
    "X_new = model.fit_transform(X)\n"
   ]
  },
  {
   "cell_type": "code",
   "execution_count": null,
   "metadata": {
    "collapsed": true
   },
   "outputs": [],
   "source": [
    "plt.scatter(vis_x, vis_y, c=y_data, cmap=plt.cm.get_cmap(\"jet\", 10))\n",
    "plt.colorbar(ticks=range(10))\n",
    "plt.clim(-0.5, 9.5)\n",
    "plt.show()"
   ]
  },
  {
   "cell_type": "code",
   "execution_count": null,
   "metadata": {
    "collapsed": false
   },
   "outputs": [],
   "source": [
    "X_italian=[]\n",
    "X_indian=[]\n",
    "X_chinese=[]\n",
    "for i in range(len(X_init)):\n",
    "    if y_init[i]=='italian':\n",
    "        X_italian.append(X_new[i])\n",
    "    elif y_init[i]=='indian':\n",
    "        X_indian.append(X_new[i])\n",
    "    elif y_init[i]=='chinese':\n",
    "        X_chinese.append(X_new[i])\n",
    "        "
   ]
  },
  {
   "cell_type": "code",
   "execution_count": null,
   "metadata": {
    "collapsed": true
   },
   "outputs": [],
   "source": [
    "plt.plot(X_italian,'ro',X_indian,'bo',X_chinese,'go')\n",
    "plt.show()"
   ]
  },
  {
   "cell_type": "code",
   "execution_count": null,
   "metadata": {
    "collapsed": false
   },
   "outputs": [],
   "source": [
    "qwerty=u'pillsbury\\u2122'\n",
    "print qwerty"
   ]
  },
  {
   "cell_type": "code",
   "execution_count": null,
   "metadata": {
    "collapsed": false,
    "scrolled": true
   },
   "outputs": [],
   "source": [
    "for i in ings"
   ]
  },
  {
   "cell_type": "code",
   "execution_count": null,
   "metadata": {
    "collapsed": false,
    "scrolled": true
   },
   "outputs": [],
   "source": [
    "ones = 0\n",
    "for i in ings:\n",
    "    if ings[i] < 20:\n",
    "        ones += 1\n",
    "print ones"
   ]
  },
  {
   "cell_type": "code",
   "execution_count": null,
   "metadata": {
    "collapsed": false
   },
   "outputs": [],
   "source": [
    "ing = []\n",
    "for i in ings:\n",
    "    if 20 <= ings[i] :\n",
    "        ing.append(i)\n",
    "print len(ing)\n",
    "print ing[:10]"
   ]
  },
  {
   "cell_type": "code",
   "execution_count": null,
   "metadata": {
    "collapsed": false,
    "scrolled": true
   },
   "outputs": [],
   "source": [
    "print sorted(ings.values(), reverse=True)[:15]"
   ]
  },
  {
   "cell_type": "code",
   "execution_count": null,
   "metadata": {
    "collapsed": true
   },
   "outputs": [],
   "source": [
    "cuisine_ing = {}\n",
    "for c in cuisines:\n",
    "    cuisine_ing[c] = []\n",
    "for d in data:\n",
    "    for i in d['ingredients']:\n",
    "        for w in i.split():\n",
    "            if w.lower() not in cuisine_ing[d['cuisine']]:\n",
    "                cuisine_ing[d['cuisine']].append(w.lower())"
   ]
  },
  {
   "cell_type": "code",
   "execution_count": null,
   "metadata": {
    "collapsed": true
   },
   "outputs": [],
   "source": [
    "print cuisine_ing['indian']"
   ]
  },
  {
   "cell_type": "code",
   "execution_count": null,
   "metadata": {
    "collapsed": false,
    "scrolled": true
   },
   "outputs": [],
   "source": [
    "training = data[:35000]\n",
    "validation = data[35000:]\n",
    "print len(validation)"
   ]
  },
  {
   "cell_type": "code",
   "execution_count": null,
   "metadata": {
    "collapsed": true
   },
   "outputs": [],
   "source": [
    "sign_ing = {\"brazilian\":[\"cachaca\",\"acai\"], \"british\":[\"stilton cheese\",\"suet\"], \"cajun\":[\"cajun seasoning\",\"andouille sausage\"], \"chinese\":[\"shaoxing wine\",\"chinese five-spice powder\"], \"filipino\":[\"lumpia wrappers\",\"calamansi\"], \"french\":[\"gruyere cheese\",\"cognac\"], \"greek\":[\"feta cheese\",\"greek seasoning\"], \"indian\":[\"garam masala\",\"ground turmeric\"], \"irish\":[\"irish whisky\",\"guinness\"], \"italian\":[\"parmesan cheese\",\"ricotta cheese\"], \"jamaican\":[\"scotch bonnet chiles\",\"jerk seasoning\"], \"japanese\":[\"mirin\",\"sake\"], \"korean\":[\"gochujang\",\"kimchi\"], \"mexican\":[\"corn tortillas\",\"salsa\"], \"moroccan\":[\"couscous\",\"preserved lemon\"], \"russian\":[\"beets\",\"buckwheat flour\"], \"southern (us)\":[\"buttermilk\",\"grits\"], \"spanish\":[\"chorizo\",\"serrano ham\"], \"thai\":[\"red curry paste\",\"fish sauce\"], \"vietnamese\":[\"fish sauce\",\"rice paper\"]}"
   ]
  },
  {
   "cell_type": "code",
   "execution_count": null,
   "metadata": {
    "collapsed": false,
    "scrolled": true
   },
   "outputs": [],
   "source": [
    "print sign_ing"
   ]
  },
  {
   "cell_type": "code",
   "execution_count": null,
   "metadata": {
    "collapsed": true
   },
   "outputs": [],
   "source": [
    "def feature(d):\n",
    "    feat = [0]*len(ing)\n",
    "    for i in d['ingredients']:\n",
    "        for w in i.split():\n",
    "            if w.lower() in ing:\n",
    "                feat[ing.index(w.lower())] = 1\n",
    "    \n",
    "    for c in cuisine_ing:\n",
    "        num_i = 0\n",
    "        for i in d['ingredients']:\n",
    "            for w in i.split():\n",
    "                if w.lower() in cuisine_ing[c]:\n",
    "                    num_i += 1\n",
    "        feat.append(num_i)\n",
    "    \n",
    "    for c in sign_ing:\n",
    "        num_i = 0\n",
    "        for i in d['ingredients']:\n",
    "            if i.lower() in sign_ing[c]:\n",
    "                num_i += 1\n",
    "        feat.append(num_i)\n",
    "    return feat"
   ]
  },
  {
   "cell_type": "code",
   "execution_count": null,
   "metadata": {
    "collapsed": true
   },
   "outputs": [],
   "source": [
    "def feature_all(d):\n",
    "    feat = [0]*len(ings.keys())\n",
    "    for i in d['ingredients']:\n",
    "        for w in i.split():\n",
    "            if w.lower() in ings.keys():\n",
    "                feat[ings.keys().index(w.lower())] = 1\n",
    "    return feat"
   ]
  },
  {
   "cell_type": "code",
   "execution_count": null,
   "metadata": {
    "collapsed": false
   },
   "outputs": [],
   "source": [
    "X_train = [feature(d) for d in training]\n",
    "y_train = [d['cuisine'] for d in training]\n",
    "X_validate = [feature(d) for d in validation]\n",
    "y_validate = [d['cuisine'] for d in validation]"
   ]
  },
  {
   "cell_type": "code",
   "execution_count": null,
   "metadata": {
    "collapsed": false
   },
   "outputs": [],
   "source": [
    "len(X_validate[-1])"
   ]
  },
  {
   "cell_type": "code",
   "execution_count": null,
   "metadata": {
    "collapsed": true
   },
   "outputs": [],
   "source": [
    "from sklearn.decomposition import PCA"
   ]
  },
  {
   "cell_type": "code",
   "execution_count": null,
   "metadata": {
    "collapsed": true
   },
   "outputs": [],
   "source": [
    "X_all = [feature(d) for d in data]"
   ]
  },
  {
   "cell_type": "code",
   "execution_count": null,
   "metadata": {
    "collapsed": true
   },
   "outputs": [],
   "source": [
    "pca = PCA(n_components=50)\n",
    "pca.fit(X)\n",
    "X_PCA = pca.transform(X)"
   ]
  },
  {
   "cell_type": "code",
   "execution_count": null,
   "metadata": {
    "collapsed": false
   },
   "outputs": [],
   "source": [
    "len(X_PCA[0])"
   ]
  },
  {
   "cell_type": "code",
   "execution_count": null,
   "metadata": {
    "collapsed": false
   },
   "outputs": [],
   "source": [
    "lin_clf = svm.LinearSVC(C=0.05,dual=False)\n",
    "lin_clf.fit(X_train, y_train)\n",
    "predict = lin_clf.predict(X_validate)\n",
    "accuracy = 0\n",
    "for a,b in zip(predict,y_validate):\n",
    "    if a == b:\n",
    "        accuracy += 1\n",
    "accuracy = accuracy*1.0/len(y_validate)\n",
    "print accuracy"
   ]
  },
  {
   "cell_type": "code",
   "execution_count": null,
   "metadata": {
    "collapsed": false
   },
   "outputs": [],
   "source": [
    "forest = RandomForestClassifier(n_estimators=100)\n",
    "forest = forest.fit(X,y)\n",
    "predict = forest.predict(X_test)"
   ]
  },
  {
   "cell_type": "code",
   "execution_count": null,
   "metadata": {
    "collapsed": false
   },
   "outputs": [],
   "source": [
    "from sklearn.naive_bayes import MultinomialNB\n",
    "clf = MultinomialNB(alpha=0.1)\n",
    "clf.fit(X, y)\n",
    "predict = clf.predict(X_test)"
   ]
  },
  {
   "cell_type": "code",
   "execution_count": null,
   "metadata": {
    "collapsed": false
   },
   "outputs": [],
   "source": [
    "clf = linear_model.LogisticRegression(C=0.5)\n",
    "clf.fit(X_train,y_train)\n",
    "predict = clf.predict(X_validate)\n",
    "accuracy = 0\n",
    "for a,b in zip(predict,y_validate):\n",
    "    if a == b:\n",
    "        accuracy += 1\n",
    "accuracy = accuracy*1.0/len(y_validate)\n",
    "print accuracy"
   ]
  },
  {
   "cell_type": "code",
   "execution_count": null,
   "metadata": {
    "collapsed": false
   },
   "outputs": [],
   "source": [
    "from sklearn import neighbors\n",
    "clf = neighbors.KNeighborsClassifier(n_neighbors=10)\n",
    "clf.fit(X,y)\n",
    "predict = clf.predict(X_test)"
   ]
  },
  {
   "cell_type": "code",
   "execution_count": null,
   "metadata": {
    "collapsed": false
   },
   "outputs": [],
   "source": [
    "regr_1 = DecisionTreeClassifier()\n",
    "regr_1.fit(X, y)\n",
    "predict = regr_1.predict(X_test)"
   ]
  },
  {
   "cell_type": "code",
   "execution_count": null,
   "metadata": {
    "collapsed": false
   },
   "outputs": [],
   "source": [
    "X_train_pca = X_PCA[:35000]\n",
    "X_validate_pca = X_PCA[35000:]\n",
    "lin_clf = svm.LinearSVC(C=0.1,dual=False)\n",
    "lin_clf.fit(X_train_pca, y_train)\n",
    "predict = lin_clf.predict(X_validate_pca)\n",
    "accuracy = 0\n",
    "for a,b in zip(predict,y_validate):\n",
    "    if a == b:\n",
    "        accuracy += 1\n",
    "accuracy = accuracy*1.0/len(y_validate)\n",
    "print accuracy"
   ]
  },
  {
   "cell_type": "code",
   "execution_count": null,
   "metadata": {
    "collapsed": false,
    "scrolled": true
   },
   "outputs": [],
   "source": [
    "X = [feature(d) for d in data]\n"
   ]
  },
  {
   "cell_type": "code",
   "execution_count": null,
   "metadata": {
    "collapsed": true
   },
   "outputs": [],
   "source": [
    "X = X_train + X_validate"
   ]
  },
  {
   "cell_type": "code",
   "execution_count": null,
   "metadata": {
    "collapsed": true
   },
   "outputs": [],
   "source": [
    "print feature(data[0])"
   ]
  },
  {
   "cell_type": "code",
   "execution_count": null,
   "metadata": {
    "collapsed": false
   },
   "outputs": [],
   "source": [
    "y = [d['cuisine'] for d in data]\n",
    "print y[:10]"
   ]
  },
  {
   "cell_type": "code",
   "execution_count": null,
   "metadata": {
    "collapsed": false
   },
   "outputs": [],
   "source": [
    "X_test = [feature(d) for d in test]\n",
    "#y_test = [d['cuisine'] for d in test]"
   ]
  },
  {
   "cell_type": "code",
   "execution_count": null,
   "metadata": {
    "collapsed": false
   },
   "outputs": [],
   "source": [
    "len(X_test[0])"
   ]
  },
  {
   "cell_type": "code",
   "execution_count": null,
   "metadata": {
    "collapsed": false
   },
   "outputs": [],
   "source": [
    "lin_clf = linear_model.LogisticRegression(C=0.5)\n",
    "lin_clf.fit(X, y)\n"
   ]
  },
  {
   "cell_type": "code",
   "execution_count": null,
   "metadata": {
    "collapsed": false
   },
   "outputs": [],
   "source": [
    "predict = lin_clf.predict(X_test)"
   ]
  },
  {
   "cell_type": "code",
   "execution_count": null,
   "metadata": {
    "collapsed": false
   },
   "outputs": [],
   "source": [
    "predict[:10]"
   ]
  },
  {
   "cell_type": "code",
   "execution_count": null,
   "metadata": {
    "collapsed": false
   },
   "outputs": [],
   "source": [
    "from sklearn.ensemble import RandomForestClassifier\n",
    "from sklearn.tree import DecisionTreeClassifier"
   ]
  },
  {
   "cell_type": "code",
   "execution_count": null,
   "metadata": {
    "collapsed": false
   },
   "outputs": [],
   "source": [
    "forest = RandomForestClassifier(n_estimators=100)\n",
    "forest = forest.fit(X,y)\n",
    "predict = forest.predict(X_test)"
   ]
  },
  {
   "cell_type": "code",
   "execution_count": null,
   "metadata": {
    "collapsed": false
   },
   "outputs": [],
   "source": [
    "\n",
    "out = open(\"R:\\UCSD\\Fall'15\\CSE 255\\Assignment 2\\cuisine\\output.csv\",'w')\n",
    "out.write(\"id,cuisine\\n\")\n",
    "for x,p in zip(test,predict):\n",
    "    out.write(str(x['id'])+\",\"+str(p)+\"\\n\")\n",
    "out.close()"
   ]
  }
 ],
 "metadata": {
  "kernelspec": {
   "display_name": "Python 2",
   "language": "python",
   "name": "python2"
  },
  "language_info": {
   "codemirror_mode": {
    "name": "ipython",
    "version": 2
   },
   "file_extension": ".py",
   "mimetype": "text/x-python",
   "name": "python",
   "nbconvert_exporter": "python",
   "pygments_lexer": "ipython2",
   "version": "2.7.11"
  }
 },
 "nbformat": 4,
 "nbformat_minor": 0
}
